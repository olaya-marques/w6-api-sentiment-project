{
 "cells": [
  {
   "cell_type": "markdown",
   "id": "65923b29",
   "metadata": {},
   "source": [
    "# Base de datos. Tratamiento y exploración de los datos 🕵🏻"
   ]
  },
  {
   "cell_type": "markdown",
   "id": "5b4b3ed3",
   "metadata": {},
   "source": [
    "En este jupyter notebook se encuentra todo el proceso de limpieza y selección de los datos del dataset descargado de kaggle [\"UN General Debates\"](https://www.kaggle.com/unitednations/un-general-debates), para más tarde utilizarlo en la API."
   ]
  },
  {
   "cell_type": "markdown",
   "id": "5eb09ba7",
   "metadata": {},
   "source": [
    "## Índice 📎"
   ]
  },
  {
   "cell_type": "markdown",
   "id": "3f03bc5f",
   "metadata": {},
   "source": [
    "- Importación de librerias y funciones\n",
    "- Importación del dataset\n",
    "- Exploración del dataset\n",
    "- Importación del dataset definitivo"
   ]
  },
  {
   "cell_type": "markdown",
   "id": "a6685405",
   "metadata": {},
   "source": [
    "## 1. Importación de librerias y funciones 📚"
   ]
  },
  {
   "cell_type": "code",
   "execution_count": 1,
   "id": "49d557af",
   "metadata": {},
   "outputs": [],
   "source": [
    "import pandas as pd\n",
    "import numpy as np\n",
    "import re"
   ]
  },
  {
   "cell_type": "markdown",
   "id": "d25dd336",
   "metadata": {},
   "source": [
    "## 2. Importación del dataset 📖"
   ]
  },
  {
   "cell_type": "code",
   "execution_count": 2,
   "id": "19a7d673",
   "metadata": {},
   "outputs": [
    {
     "data": {
      "text/html": [
       "<div>\n",
       "<style scoped>\n",
       "    .dataframe tbody tr th:only-of-type {\n",
       "        vertical-align: middle;\n",
       "    }\n",
       "\n",
       "    .dataframe tbody tr th {\n",
       "        vertical-align: top;\n",
       "    }\n",
       "\n",
       "    .dataframe thead th {\n",
       "        text-align: right;\n",
       "    }\n",
       "</style>\n",
       "<table border=\"1\" class=\"dataframe\">\n",
       "  <thead>\n",
       "    <tr style=\"text-align: right;\">\n",
       "      <th></th>\n",
       "      <th>session</th>\n",
       "      <th>year</th>\n",
       "      <th>country</th>\n",
       "      <th>text</th>\n",
       "    </tr>\n",
       "  </thead>\n",
       "  <tbody>\n",
       "    <tr>\n",
       "      <th>0</th>\n",
       "      <td>44</td>\n",
       "      <td>1989</td>\n",
       "      <td>MDV</td>\n",
       "      <td>﻿It is indeed a pleasure for me and the member...</td>\n",
       "    </tr>\n",
       "    <tr>\n",
       "      <th>1</th>\n",
       "      <td>44</td>\n",
       "      <td>1989</td>\n",
       "      <td>FIN</td>\n",
       "      <td>﻿\\nMay I begin by congratulating you. Sir, on ...</td>\n",
       "    </tr>\n",
       "    <tr>\n",
       "      <th>2</th>\n",
       "      <td>44</td>\n",
       "      <td>1989</td>\n",
       "      <td>NER</td>\n",
       "      <td>﻿\\nMr. President, it is a particular pleasure ...</td>\n",
       "    </tr>\n",
       "    <tr>\n",
       "      <th>3</th>\n",
       "      <td>44</td>\n",
       "      <td>1989</td>\n",
       "      <td>URY</td>\n",
       "      <td>﻿\\nDuring the debate at the fortieth session o...</td>\n",
       "    </tr>\n",
       "    <tr>\n",
       "      <th>4</th>\n",
       "      <td>44</td>\n",
       "      <td>1989</td>\n",
       "      <td>ZWE</td>\n",
       "      <td>﻿I should like at the outset to express my del...</td>\n",
       "    </tr>\n",
       "  </tbody>\n",
       "</table>\n",
       "</div>"
      ],
      "text/plain": [
       "   session  year country                                               text\n",
       "0       44  1989     MDV  ﻿It is indeed a pleasure for me and the member...\n",
       "1       44  1989     FIN  ﻿\\nMay I begin by congratulating you. Sir, on ...\n",
       "2       44  1989     NER  ﻿\\nMr. President, it is a particular pleasure ...\n",
       "3       44  1989     URY  ﻿\\nDuring the debate at the fortieth session o...\n",
       "4       44  1989     ZWE  ﻿I should like at the outset to express my del..."
      ]
     },
     "execution_count": 2,
     "metadata": {},
     "output_type": "execute_result"
    }
   ],
   "source": [
    "data = pd.read_csv(\"Data/un-general-debates.csv\")\n",
    "data.head()"
   ]
  },
  {
   "cell_type": "markdown",
   "id": "a5b86467",
   "metadata": {},
   "source": [
    "## 3. Exploración del dataset 🔎"
   ]
  },
  {
   "cell_type": "markdown",
   "id": "1271c459",
   "metadata": {},
   "source": [
    "Vamos a observar todas las columnas con el objetivo de identificar la información que nos proporciona la base de datos y seleccionar la información que queremos que contenga nuestra API."
   ]
  },
  {
   "cell_type": "code",
   "execution_count": 3,
   "id": "eabeb881",
   "metadata": {},
   "outputs": [
    {
     "data": {
      "text/plain": [
       "Index(['session', 'year', 'country', 'text'], dtype='object')"
      ]
     },
     "execution_count": 3,
     "metadata": {},
     "output_type": "execute_result"
    }
   ],
   "source": [
    "data.columns"
   ]
  },
  {
   "cell_type": "markdown",
   "id": "09c4c1a3",
   "metadata": {},
   "source": [
    "Comprobamos el número de NaNs:"
   ]
  },
  {
   "cell_type": "code",
   "execution_count": 4,
   "id": "07ab1979",
   "metadata": {},
   "outputs": [
    {
     "name": "stdout",
     "output_type": "stream",
     "text": [
      "<class 'pandas.core.frame.DataFrame'>\n",
      "RangeIndex: 7507 entries, 0 to 7506\n",
      "Data columns (total 4 columns):\n",
      " #   Column   Non-Null Count  Dtype \n",
      "---  ------   --------------  ----- \n",
      " 0   session  7507 non-null   int64 \n",
      " 1   year     7507 non-null   int64 \n",
      " 2   country  7507 non-null   object\n",
      " 3   text     7507 non-null   object\n",
      "dtypes: int64(2), object(2)\n",
      "memory usage: 234.7+ KB\n"
     ]
    }
   ],
   "source": [
    "data.info()"
   ]
  },
  {
   "cell_type": "markdown",
   "id": "3b4e7d26",
   "metadata": {},
   "source": [
    "En este caso confirmamos que no existen NANs, por último eliminamos la primera columna \"session\" (se considera que no es relativa/importante para el contenido de nuestra API)"
   ]
  },
  {
   "cell_type": "code",
   "execution_count": 5,
   "id": "0224f412",
   "metadata": {},
   "outputs": [
    {
     "data": {
      "text/html": [
       "<div>\n",
       "<style scoped>\n",
       "    .dataframe tbody tr th:only-of-type {\n",
       "        vertical-align: middle;\n",
       "    }\n",
       "\n",
       "    .dataframe tbody tr th {\n",
       "        vertical-align: top;\n",
       "    }\n",
       "\n",
       "    .dataframe thead th {\n",
       "        text-align: right;\n",
       "    }\n",
       "</style>\n",
       "<table border=\"1\" class=\"dataframe\">\n",
       "  <thead>\n",
       "    <tr style=\"text-align: right;\">\n",
       "      <th></th>\n",
       "      <th>year</th>\n",
       "      <th>country</th>\n",
       "      <th>text</th>\n",
       "    </tr>\n",
       "  </thead>\n",
       "  <tbody>\n",
       "    <tr>\n",
       "      <th>0</th>\n",
       "      <td>1989</td>\n",
       "      <td>MDV</td>\n",
       "      <td>﻿It is indeed a pleasure for me and the member...</td>\n",
       "    </tr>\n",
       "    <tr>\n",
       "      <th>1</th>\n",
       "      <td>1989</td>\n",
       "      <td>FIN</td>\n",
       "      <td>﻿\\nMay I begin by congratulating you. Sir, on ...</td>\n",
       "    </tr>\n",
       "    <tr>\n",
       "      <th>2</th>\n",
       "      <td>1989</td>\n",
       "      <td>NER</td>\n",
       "      <td>﻿\\nMr. President, it is a particular pleasure ...</td>\n",
       "    </tr>\n",
       "    <tr>\n",
       "      <th>3</th>\n",
       "      <td>1989</td>\n",
       "      <td>URY</td>\n",
       "      <td>﻿\\nDuring the debate at the fortieth session o...</td>\n",
       "    </tr>\n",
       "    <tr>\n",
       "      <th>4</th>\n",
       "      <td>1989</td>\n",
       "      <td>ZWE</td>\n",
       "      <td>﻿I should like at the outset to express my del...</td>\n",
       "    </tr>\n",
       "    <tr>\n",
       "      <th>...</th>\n",
       "      <td>...</td>\n",
       "      <td>...</td>\n",
       "      <td>...</td>\n",
       "    </tr>\n",
       "    <tr>\n",
       "      <th>7502</th>\n",
       "      <td>2001</td>\n",
       "      <td>KAZ</td>\n",
       "      <td>﻿This session\\nthat is taking place under extr...</td>\n",
       "    </tr>\n",
       "    <tr>\n",
       "      <th>7503</th>\n",
       "      <td>2001</td>\n",
       "      <td>LBR</td>\n",
       "      <td>﻿I am honoured to\\nparticipate in this histori...</td>\n",
       "    </tr>\n",
       "    <tr>\n",
       "      <th>7504</th>\n",
       "      <td>2001</td>\n",
       "      <td>BDI</td>\n",
       "      <td>﻿It\\nis for me a signal honour to take the flo...</td>\n",
       "    </tr>\n",
       "    <tr>\n",
       "      <th>7505</th>\n",
       "      <td>2001</td>\n",
       "      <td>HUN</td>\n",
       "      <td>﻿First, may I congratulate Mr. Han Seung-soo o...</td>\n",
       "    </tr>\n",
       "    <tr>\n",
       "      <th>7506</th>\n",
       "      <td>2001</td>\n",
       "      <td>KWT</td>\n",
       "      <td>﻿On behalf of the State of Kuwait, it\\ngives m...</td>\n",
       "    </tr>\n",
       "  </tbody>\n",
       "</table>\n",
       "<p>7507 rows × 3 columns</p>\n",
       "</div>"
      ],
      "text/plain": [
       "      year country                                               text\n",
       "0     1989     MDV  ﻿It is indeed a pleasure for me and the member...\n",
       "1     1989     FIN  ﻿\\nMay I begin by congratulating you. Sir, on ...\n",
       "2     1989     NER  ﻿\\nMr. President, it is a particular pleasure ...\n",
       "3     1989     URY  ﻿\\nDuring the debate at the fortieth session o...\n",
       "4     1989     ZWE  ﻿I should like at the outset to express my del...\n",
       "...    ...     ...                                                ...\n",
       "7502  2001     KAZ  ﻿This session\\nthat is taking place under extr...\n",
       "7503  2001     LBR  ﻿I am honoured to\\nparticipate in this histori...\n",
       "7504  2001     BDI  ﻿It\\nis for me a signal honour to take the flo...\n",
       "7505  2001     HUN  ﻿First, may I congratulate Mr. Han Seung-soo o...\n",
       "7506  2001     KWT  ﻿On behalf of the State of Kuwait, it\\ngives m...\n",
       "\n",
       "[7507 rows x 3 columns]"
      ]
     },
     "execution_count": 5,
     "metadata": {},
     "output_type": "execute_result"
    }
   ],
   "source": [
    "data2 = data.drop(\"session\", axis=1)\n",
    "data2"
   ]
  },
  {
   "cell_type": "markdown",
   "id": "b0ea4249",
   "metadata": {},
   "source": [
    "Renombramos las columnas para facilitar su lectura y posterior manipulación."
   ]
  },
  {
   "cell_type": "code",
   "execution_count": 6,
   "id": "e0cfe8e1",
   "metadata": {},
   "outputs": [
    {
     "data": {
      "text/html": [
       "<div>\n",
       "<style scoped>\n",
       "    .dataframe tbody tr th:only-of-type {\n",
       "        vertical-align: middle;\n",
       "    }\n",
       "\n",
       "    .dataframe tbody tr th {\n",
       "        vertical-align: top;\n",
       "    }\n",
       "\n",
       "    .dataframe thead th {\n",
       "        text-align: right;\n",
       "    }\n",
       "</style>\n",
       "<table border=\"1\" class=\"dataframe\">\n",
       "  <thead>\n",
       "    <tr style=\"text-align: right;\">\n",
       "      <th></th>\n",
       "      <th>Year</th>\n",
       "      <th>Country</th>\n",
       "      <th>Text</th>\n",
       "    </tr>\n",
       "  </thead>\n",
       "  <tbody>\n",
       "    <tr>\n",
       "      <th>0</th>\n",
       "      <td>1989</td>\n",
       "      <td>MDV</td>\n",
       "      <td>﻿It is indeed a pleasure for me and the member...</td>\n",
       "    </tr>\n",
       "    <tr>\n",
       "      <th>1</th>\n",
       "      <td>1989</td>\n",
       "      <td>FIN</td>\n",
       "      <td>﻿\\nMay I begin by congratulating you. Sir, on ...</td>\n",
       "    </tr>\n",
       "    <tr>\n",
       "      <th>2</th>\n",
       "      <td>1989</td>\n",
       "      <td>NER</td>\n",
       "      <td>﻿\\nMr. President, it is a particular pleasure ...</td>\n",
       "    </tr>\n",
       "    <tr>\n",
       "      <th>3</th>\n",
       "      <td>1989</td>\n",
       "      <td>URY</td>\n",
       "      <td>﻿\\nDuring the debate at the fortieth session o...</td>\n",
       "    </tr>\n",
       "    <tr>\n",
       "      <th>4</th>\n",
       "      <td>1989</td>\n",
       "      <td>ZWE</td>\n",
       "      <td>﻿I should like at the outset to express my del...</td>\n",
       "    </tr>\n",
       "  </tbody>\n",
       "</table>\n",
       "</div>"
      ],
      "text/plain": [
       "   Year Country                                               Text\n",
       "0  1989     MDV  ﻿It is indeed a pleasure for me and the member...\n",
       "1  1989     FIN  ﻿\\nMay I begin by congratulating you. Sir, on ...\n",
       "2  1989     NER  ﻿\\nMr. President, it is a particular pleasure ...\n",
       "3  1989     URY  ﻿\\nDuring the debate at the fortieth session o...\n",
       "4  1989     ZWE  ﻿I should like at the outset to express my del..."
      ]
     },
     "execution_count": 6,
     "metadata": {},
     "output_type": "execute_result"
    }
   ],
   "source": [
    "columnas = [\"Year\", \"Country\", \"Text\"]\n",
    "data2.columns = columnas\n",
    "data2.head()"
   ]
  },
  {
   "cell_type": "markdown",
   "id": "b9b397fc",
   "metadata": {},
   "source": [
    "Vamos a limpiar un poco la columna de Speech para eliminar espacios y símobolos innecesarios de cara a unificar el estilo y visualización del contenido."
   ]
  },
  {
   "cell_type": "code",
   "execution_count": 7,
   "id": "d1348a55",
   "metadata": {},
   "outputs": [],
   "source": [
    "#pasamos todo el texto a minúsculas\n",
    "data2[\"Speech\"] = data2[\"Text\"].str.lower()\n",
    "\n",
    "def clean(x):    \n",
    "    cleaned = re.sub(r\"(?s)<.?>\", \" \", x)\n",
    "    cleaned = re.sub(r\"[^A-Za-z0-9(),*!?\\'\\`]\", \" \", cleaned)\n",
    "    cleaned = re.sub(\"\\\\\\\\u(.){4}\", \" \", cleaned)\n",
    "    return cleaned.strip()\n",
    "\n",
    "# aplicamos la función para limpiar el texto\n",
    "data2[\"Speech\"] = data2.Speech.apply(lambda x: clean(x))\n",
    "#data2.head()"
   ]
  },
  {
   "cell_type": "code",
   "execution_count": 8,
   "id": "48d7fe7d",
   "metadata": {},
   "outputs": [
    {
     "data": {
      "text/html": [
       "<div>\n",
       "<style scoped>\n",
       "    .dataframe tbody tr th:only-of-type {\n",
       "        vertical-align: middle;\n",
       "    }\n",
       "\n",
       "    .dataframe tbody tr th {\n",
       "        vertical-align: top;\n",
       "    }\n",
       "\n",
       "    .dataframe thead th {\n",
       "        text-align: right;\n",
       "    }\n",
       "</style>\n",
       "<table border=\"1\" class=\"dataframe\">\n",
       "  <thead>\n",
       "    <tr style=\"text-align: right;\">\n",
       "      <th></th>\n",
       "      <th>Year</th>\n",
       "      <th>Country</th>\n",
       "      <th>Speech</th>\n",
       "    </tr>\n",
       "  </thead>\n",
       "  <tbody>\n",
       "    <tr>\n",
       "      <th>0</th>\n",
       "      <td>1989</td>\n",
       "      <td>MDV</td>\n",
       "      <td>it is indeed a pleasure for me and the members...</td>\n",
       "    </tr>\n",
       "    <tr>\n",
       "      <th>1</th>\n",
       "      <td>1989</td>\n",
       "      <td>FIN</td>\n",
       "      <td>may i begin by congratulating you  sir, on you...</td>\n",
       "    </tr>\n",
       "    <tr>\n",
       "      <th>2</th>\n",
       "      <td>1989</td>\n",
       "      <td>NER</td>\n",
       "      <td>mr  president, it is a particular pleasure for...</td>\n",
       "    </tr>\n",
       "    <tr>\n",
       "      <th>3</th>\n",
       "      <td>1989</td>\n",
       "      <td>URY</td>\n",
       "      <td>during the debate at the fortieth session of t...</td>\n",
       "    </tr>\n",
       "    <tr>\n",
       "      <th>4</th>\n",
       "      <td>1989</td>\n",
       "      <td>ZWE</td>\n",
       "      <td>i should like at the outset to express my dele...</td>\n",
       "    </tr>\n",
       "  </tbody>\n",
       "</table>\n",
       "</div>"
      ],
      "text/plain": [
       "   Year Country                                             Speech\n",
       "0  1989     MDV  it is indeed a pleasure for me and the members...\n",
       "1  1989     FIN  may i begin by congratulating you  sir, on you...\n",
       "2  1989     NER  mr  president, it is a particular pleasure for...\n",
       "3  1989     URY  during the debate at the fortieth session of t...\n",
       "4  1989     ZWE  i should like at the outset to express my dele..."
      ]
     },
     "execution_count": 8,
     "metadata": {},
     "output_type": "execute_result"
    }
   ],
   "source": [
    "data3 = data2.drop(\"Text\", axis=1)\n",
    "data3.head()"
   ]
  },
  {
   "cell_type": "markdown",
   "id": "e363ef8d",
   "metadata": {},
   "source": [
    "## 4. Importación del dataset definitivo 🚀"
   ]
  },
  {
   "cell_type": "code",
   "execution_count": 9,
   "id": "80bc7d93",
   "metadata": {},
   "outputs": [],
   "source": [
    "data3.to_json(\"Data/un_to_json\", orient = \"records\")"
   ]
  },
  {
   "cell_type": "code",
   "execution_count": 10,
   "id": "d6c52037",
   "metadata": {},
   "outputs": [],
   "source": [
    "data3.to_csv(\"Data/un_to_csv\")"
   ]
  }
 ],
 "metadata": {
  "kernelspec": {
   "display_name": "OLAYA1",
   "language": "python",
   "name": "olaya1"
  },
  "language_info": {
   "codemirror_mode": {
    "name": "ipython",
    "version": 3
   },
   "file_extension": ".py",
   "mimetype": "text/x-python",
   "name": "python",
   "nbconvert_exporter": "python",
   "pygments_lexer": "ipython3",
   "version": "3.8.5"
  }
 },
 "nbformat": 4,
 "nbformat_minor": 5
}
