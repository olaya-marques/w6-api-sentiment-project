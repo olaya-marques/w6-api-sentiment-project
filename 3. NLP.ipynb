{
 "cells": [
  {
   "cell_type": "markdown",
   "id": "36f3b6b7",
   "metadata": {},
   "source": [
    "# Procesamiento del lenguaje natural. NLP 🙃"
   ]
  },
  {
   "cell_type": "markdown",
   "id": "711237c5",
   "metadata": {},
   "source": [
    "En este jupyter notebook se encuentra todo el proceso de sentimental analysis de los datos disponibles en la API y almacenados en el dataframe de UN General Debates ya tratado y procesado. (Véase 1.Database.ipynb)"
   ]
  },
  {
   "cell_type": "markdown",
   "id": "04f486a1",
   "metadata": {},
   "source": [
    "## Índice 📎\n",
    "- Importación de librerias y funciones\n",
    "- Importación del dataset\n",
    "- NLP\n",
    ">- Tokenizar y Stop Words\n",
    ">- Sentiment analysis\n",
    "- Conclusiones\n",
    ">- Índice global de la felicidad"
   ]
  },
  {
   "cell_type": "markdown",
   "id": "2c3af2c2",
   "metadata": {},
   "source": [
    "## 1. Importación de librerias y funciones 📚"
   ]
  },
  {
   "cell_type": "code",
   "execution_count": 1,
   "id": "498fd58c",
   "metadata": {},
   "outputs": [],
   "source": [
    "import pandas as pd\n",
    "import string\n",
    "import spacy\n",
    "import nltk\n",
    "import re\n",
    "from nltk.sentiment.vader import SentimentIntensityAnalyzer\n",
    "from nltk.tokenize import RegexpTokenizer\n",
    "from nltk.corpus import stopwords\n",
    "import seaborn as sns\n",
    "import matplotlib.pyplot as plt\n",
    "import requests\n",
    "from bs4 import BeautifulSoup\n",
    "import os"
   ]
  },
  {
   "cell_type": "markdown",
   "id": "f015344f",
   "metadata": {},
   "source": [
    "## 2. Importación del dataset 📖"
   ]
  },
  {
   "cell_type": "code",
   "execution_count": 2,
   "id": "00bf950e",
   "metadata": {},
   "outputs": [],
   "source": [
    "data = pd.read_csv(\"Data/un_to_csv\")\n",
    "#data.head()"
   ]
  },
  {
   "cell_type": "code",
   "execution_count": 3,
   "id": "ec35b64e",
   "metadata": {},
   "outputs": [
    {
     "data": {
      "text/html": [
       "<div>\n",
       "<style scoped>\n",
       "    .dataframe tbody tr th:only-of-type {\n",
       "        vertical-align: middle;\n",
       "    }\n",
       "\n",
       "    .dataframe tbody tr th {\n",
       "        vertical-align: top;\n",
       "    }\n",
       "\n",
       "    .dataframe thead th {\n",
       "        text-align: right;\n",
       "    }\n",
       "</style>\n",
       "<table border=\"1\" class=\"dataframe\">\n",
       "  <thead>\n",
       "    <tr style=\"text-align: right;\">\n",
       "      <th></th>\n",
       "      <th>Year</th>\n",
       "      <th>Country</th>\n",
       "      <th>Speech</th>\n",
       "    </tr>\n",
       "  </thead>\n",
       "  <tbody>\n",
       "    <tr>\n",
       "      <th>0</th>\n",
       "      <td>1989</td>\n",
       "      <td>MDV</td>\n",
       "      <td>it is indeed a pleasure for me and the members...</td>\n",
       "    </tr>\n",
       "    <tr>\n",
       "      <th>1</th>\n",
       "      <td>1989</td>\n",
       "      <td>FIN</td>\n",
       "      <td>may i begin by congratulating you  sir, on you...</td>\n",
       "    </tr>\n",
       "    <tr>\n",
       "      <th>2</th>\n",
       "      <td>1989</td>\n",
       "      <td>NER</td>\n",
       "      <td>mr  president, it is a particular pleasure for...</td>\n",
       "    </tr>\n",
       "    <tr>\n",
       "      <th>3</th>\n",
       "      <td>1989</td>\n",
       "      <td>URY</td>\n",
       "      <td>during the debate at the fortieth session of t...</td>\n",
       "    </tr>\n",
       "    <tr>\n",
       "      <th>4</th>\n",
       "      <td>1989</td>\n",
       "      <td>ZWE</td>\n",
       "      <td>i should like at the outset to express my dele...</td>\n",
       "    </tr>\n",
       "  </tbody>\n",
       "</table>\n",
       "</div>"
      ],
      "text/plain": [
       "   Year Country                                             Speech\n",
       "0  1989     MDV  it is indeed a pleasure for me and the members...\n",
       "1  1989     FIN  may i begin by congratulating you  sir, on you...\n",
       "2  1989     NER  mr  president, it is a particular pleasure for...\n",
       "3  1989     URY  during the debate at the fortieth session of t...\n",
       "4  1989     ZWE  i should like at the outset to express my dele..."
      ]
     },
     "execution_count": 3,
     "metadata": {},
     "output_type": "execute_result"
    }
   ],
   "source": [
    "data2 = data.drop(\"Unnamed: 0\", axis=1)\n",
    "data2.head()"
   ]
  },
  {
   "cell_type": "markdown",
   "id": "1ce3760c",
   "metadata": {},
   "source": [
    "## 3. NLP 🫀"
   ]
  },
  {
   "cell_type": "markdown",
   "id": "33b362e8",
   "metadata": {},
   "source": [
    "###  Tokenizar y Stop Words 🚦"
   ]
  },
  {
   "cell_type": "markdown",
   "id": "a1fc46ea",
   "metadata": {},
   "source": [
    "Las stop words, se definen como las palabras vacías, es decir, sin significado como pronombres, artículos o preposiciones; las cuales vamos a filtrar antes de procesar los datos.\n",
    "\n",
    "Para normalizar nuestros tokens emplearemos el stremming que consiste en quitar y reemplazar los sufijos de la raíz de la palabra, para ello escribiremos una función que tokenizará los speechs uniendolo a la \"eliminación\" de las stops words:\n",
    "\n",
    "***Fuentes empleadas:***\n",
    "- [How to tokenize a string sentence in NLTK](https://www.kite.com/python/answers/how-to-tokenize-a-string-sentence-in-nltk)\n",
    "- [How do I tokenize a string sentence in NLTK?](https://stackoverflow.com/questions/15057945/how-do-i-tokenize-a-string-sentence-in-nltk)"
   ]
  },
  {
   "cell_type": "code",
   "execution_count": 4,
   "id": "a756efc7",
   "metadata": {},
   "outputs": [
    {
     "name": "stderr",
     "output_type": "stream",
     "text": [
      "[nltk_data] Downloading package punkt to\n",
      "[nltk_data]     /Users/olayamarquesgomez/nltk_data...\n",
      "[nltk_data]   Package punkt is already up-to-date!\n"
     ]
    },
    {
     "data": {
      "text/plain": [
       "True"
      ]
     },
     "execution_count": 4,
     "metadata": {},
     "output_type": "execute_result"
    }
   ],
   "source": [
    "nltk.download(\"punkt\")"
   ]
  },
  {
   "cell_type": "code",
   "execution_count": 5,
   "id": "32489a0d",
   "metadata": {},
   "outputs": [],
   "source": [
    "def tokenize(x):\n",
    "    tok = RegexpTokenizer(r'\\w+')\n",
    "    tokens = tok.tokenize(x)\n",
    "    return tokens"
   ]
  },
  {
   "cell_type": "code",
   "execution_count": 6,
   "id": "39751693",
   "metadata": {},
   "outputs": [
    {
     "data": {
      "text/html": [
       "<div>\n",
       "<style scoped>\n",
       "    .dataframe tbody tr th:only-of-type {\n",
       "        vertical-align: middle;\n",
       "    }\n",
       "\n",
       "    .dataframe tbody tr th {\n",
       "        vertical-align: top;\n",
       "    }\n",
       "\n",
       "    .dataframe thead th {\n",
       "        text-align: right;\n",
       "    }\n",
       "</style>\n",
       "<table border=\"1\" class=\"dataframe\">\n",
       "  <thead>\n",
       "    <tr style=\"text-align: right;\">\n",
       "      <th></th>\n",
       "      <th>Year</th>\n",
       "      <th>Country</th>\n",
       "      <th>Speech</th>\n",
       "    </tr>\n",
       "  </thead>\n",
       "  <tbody>\n",
       "    <tr>\n",
       "      <th>0</th>\n",
       "      <td>1989</td>\n",
       "      <td>MDV</td>\n",
       "      <td>[it, is, indeed, a, pleasure, for, me, and, th...</td>\n",
       "    </tr>\n",
       "    <tr>\n",
       "      <th>1</th>\n",
       "      <td>1989</td>\n",
       "      <td>FIN</td>\n",
       "      <td>[may, i, begin, by, congratulating, you, sir, ...</td>\n",
       "    </tr>\n",
       "    <tr>\n",
       "      <th>2</th>\n",
       "      <td>1989</td>\n",
       "      <td>NER</td>\n",
       "      <td>[mr, president, it, is, a, particular, pleasur...</td>\n",
       "    </tr>\n",
       "    <tr>\n",
       "      <th>3</th>\n",
       "      <td>1989</td>\n",
       "      <td>URY</td>\n",
       "      <td>[during, the, debate, at, the, fortieth, sessi...</td>\n",
       "    </tr>\n",
       "    <tr>\n",
       "      <th>4</th>\n",
       "      <td>1989</td>\n",
       "      <td>ZWE</td>\n",
       "      <td>[i, should, like, at, the, outset, to, express...</td>\n",
       "    </tr>\n",
       "  </tbody>\n",
       "</table>\n",
       "</div>"
      ],
      "text/plain": [
       "   Year Country                                             Speech\n",
       "0  1989     MDV  [it, is, indeed, a, pleasure, for, me, and, th...\n",
       "1  1989     FIN  [may, i, begin, by, congratulating, you, sir, ...\n",
       "2  1989     NER  [mr, president, it, is, a, particular, pleasur...\n",
       "3  1989     URY  [during, the, debate, at, the, fortieth, sessi...\n",
       "4  1989     ZWE  [i, should, like, at, the, outset, to, express..."
      ]
     },
     "execution_count": 6,
     "metadata": {},
     "output_type": "execute_result"
    }
   ],
   "source": [
    "data2[\"Speech\"] = data2.Speech.apply(tokenize)\n",
    "data2.head()"
   ]
  },
  {
   "cell_type": "markdown",
   "id": "583cceda",
   "metadata": {},
   "source": [
    "A continuación procedemos a eliminar las stop words, para la cual también crearemos una función:\n",
    "\n",
    "***Fuentes empleadas:***\n",
    "- [Removing stop words in NLTK in Python](https://www.geeksforgeeks.org/removing-stop-words-nltk-python/)"
   ]
  },
  {
   "cell_type": "code",
   "execution_count": 7,
   "id": "3a225b89",
   "metadata": {},
   "outputs": [
    {
     "name": "stderr",
     "output_type": "stream",
     "text": [
      "[nltk_data] Downloading package stopwords to\n",
      "[nltk_data]     /Users/olayamarquesgomez/nltk_data...\n",
      "[nltk_data]   Package stopwords is already up-to-date!\n"
     ]
    },
    {
     "data": {
      "text/plain": [
       "True"
      ]
     },
     "execution_count": 7,
     "metadata": {},
     "output_type": "execute_result"
    }
   ],
   "source": [
    "nltk.download(\"stopwords\")"
   ]
  },
  {
   "cell_type": "code",
   "execution_count": 8,
   "id": "8001dde9",
   "metadata": {},
   "outputs": [],
   "source": [
    "def stop_words(x):\n",
    "    stop_words = set(stopwords.words(\"english\"))\n",
    "    filtrada = []\n",
    "    for string in x:\n",
    "        if string not in stop_words:\n",
    "            filtrada.append(string)\n",
    "    return \" \".join(filtrada)"
   ]
  },
  {
   "cell_type": "code",
   "execution_count": 9,
   "id": "8a0a765f",
   "metadata": {},
   "outputs": [
    {
     "data": {
      "text/html": [
       "<div>\n",
       "<style scoped>\n",
       "    .dataframe tbody tr th:only-of-type {\n",
       "        vertical-align: middle;\n",
       "    }\n",
       "\n",
       "    .dataframe tbody tr th {\n",
       "        vertical-align: top;\n",
       "    }\n",
       "\n",
       "    .dataframe thead th {\n",
       "        text-align: right;\n",
       "    }\n",
       "</style>\n",
       "<table border=\"1\" class=\"dataframe\">\n",
       "  <thead>\n",
       "    <tr style=\"text-align: right;\">\n",
       "      <th></th>\n",
       "      <th>Year</th>\n",
       "      <th>Country</th>\n",
       "      <th>Speech</th>\n",
       "    </tr>\n",
       "  </thead>\n",
       "  <tbody>\n",
       "    <tr>\n",
       "      <th>0</th>\n",
       "      <td>1989</td>\n",
       "      <td>MDV</td>\n",
       "      <td>indeed pleasure members delegation extend amba...</td>\n",
       "    </tr>\n",
       "    <tr>\n",
       "      <th>1</th>\n",
       "      <td>1989</td>\n",
       "      <td>FIN</td>\n",
       "      <td>may begin congratulating sir election presiden...</td>\n",
       "    </tr>\n",
       "    <tr>\n",
       "      <th>2</th>\n",
       "      <td>1989</td>\n",
       "      <td>NER</td>\n",
       "      <td>mr president particular pleasure behalf delega...</td>\n",
       "    </tr>\n",
       "    <tr>\n",
       "      <th>3</th>\n",
       "      <td>1989</td>\n",
       "      <td>URY</td>\n",
       "      <td>debate fortieth session general assembly four ...</td>\n",
       "    </tr>\n",
       "    <tr>\n",
       "      <th>4</th>\n",
       "      <td>1989</td>\n",
       "      <td>ZWE</td>\n",
       "      <td>like outset express delegation satisfaction pl...</td>\n",
       "    </tr>\n",
       "  </tbody>\n",
       "</table>\n",
       "</div>"
      ],
      "text/plain": [
       "   Year Country                                             Speech\n",
       "0  1989     MDV  indeed pleasure members delegation extend amba...\n",
       "1  1989     FIN  may begin congratulating sir election presiden...\n",
       "2  1989     NER  mr president particular pleasure behalf delega...\n",
       "3  1989     URY  debate fortieth session general assembly four ...\n",
       "4  1989     ZWE  like outset express delegation satisfaction pl..."
      ]
     },
     "execution_count": 9,
     "metadata": {},
     "output_type": "execute_result"
    }
   ],
   "source": [
    "data2[\"Speech\"] = data2.Speech.apply(stop_words)\n",
    "data2.head()"
   ]
  },
  {
   "cell_type": "markdown",
   "id": "fec6ce6e",
   "metadata": {},
   "source": [
    "### Sentiment analysis 💞"
   ]
  },
  {
   "cell_type": "markdown",
   "id": "f84141ed",
   "metadata": {},
   "source": [
    "Tras haber preparado nuestros datos procedemos a realizar el análisis de sentimientos, de nuevo emplearemos una función:"
   ]
  },
  {
   "cell_type": "code",
   "execution_count": 10,
   "id": "45a275b6",
   "metadata": {},
   "outputs": [
    {
     "name": "stderr",
     "output_type": "stream",
     "text": [
      "[nltk_data] Downloading package vader_lexicon to\n",
      "[nltk_data]     /Users/olayamarquesgomez/nltk_data...\n",
      "[nltk_data]   Package vader_lexicon is already up-to-date!\n"
     ]
    },
    {
     "data": {
      "text/plain": [
       "True"
      ]
     },
     "execution_count": 10,
     "metadata": {},
     "output_type": "execute_result"
    }
   ],
   "source": [
    "nltk.download(\"vader_lexicon\")"
   ]
  },
  {
   "cell_type": "code",
   "execution_count": 11,
   "id": "ab66019b",
   "metadata": {},
   "outputs": [],
   "source": [
    "def sentimentAnalysis(x):\n",
    "    sia = SentimentIntensityAnalyzer()\n",
    "    polaridad = sia.polarity_scores(x)\n",
    "    pol = polaridad[\"compound\"]\n",
    "    return pol"
   ]
  },
  {
   "cell_type": "code",
   "execution_count": 12,
   "id": "4b0ec3aa",
   "metadata": {},
   "outputs": [
    {
     "data": {
      "text/html": [
       "<div>\n",
       "<style scoped>\n",
       "    .dataframe tbody tr th:only-of-type {\n",
       "        vertical-align: middle;\n",
       "    }\n",
       "\n",
       "    .dataframe tbody tr th {\n",
       "        vertical-align: top;\n",
       "    }\n",
       "\n",
       "    .dataframe thead th {\n",
       "        text-align: right;\n",
       "    }\n",
       "</style>\n",
       "<table border=\"1\" class=\"dataframe\">\n",
       "  <thead>\n",
       "    <tr style=\"text-align: right;\">\n",
       "      <th></th>\n",
       "      <th>Year</th>\n",
       "      <th>Country</th>\n",
       "      <th>Speech</th>\n",
       "      <th>Polarity</th>\n",
       "    </tr>\n",
       "  </thead>\n",
       "  <tbody>\n",
       "    <tr>\n",
       "      <th>0</th>\n",
       "      <td>1989</td>\n",
       "      <td>MDV</td>\n",
       "      <td>indeed pleasure members delegation extend amba...</td>\n",
       "      <td>0.9998</td>\n",
       "    </tr>\n",
       "    <tr>\n",
       "      <th>1</th>\n",
       "      <td>1989</td>\n",
       "      <td>FIN</td>\n",
       "      <td>may begin congratulating sir election presiden...</td>\n",
       "      <td>0.9998</td>\n",
       "    </tr>\n",
       "    <tr>\n",
       "      <th>2</th>\n",
       "      <td>1989</td>\n",
       "      <td>NER</td>\n",
       "      <td>mr president particular pleasure behalf delega...</td>\n",
       "      <td>0.9999</td>\n",
       "    </tr>\n",
       "    <tr>\n",
       "      <th>3</th>\n",
       "      <td>1989</td>\n",
       "      <td>URY</td>\n",
       "      <td>debate fortieth session general assembly four ...</td>\n",
       "      <td>0.9996</td>\n",
       "    </tr>\n",
       "    <tr>\n",
       "      <th>4</th>\n",
       "      <td>1989</td>\n",
       "      <td>ZWE</td>\n",
       "      <td>like outset express delegation satisfaction pl...</td>\n",
       "      <td>0.9999</td>\n",
       "    </tr>\n",
       "  </tbody>\n",
       "</table>\n",
       "</div>"
      ],
      "text/plain": [
       "   Year Country                                             Speech  Polarity\n",
       "0  1989     MDV  indeed pleasure members delegation extend amba...    0.9998\n",
       "1  1989     FIN  may begin congratulating sir election presiden...    0.9998\n",
       "2  1989     NER  mr president particular pleasure behalf delega...    0.9999\n",
       "3  1989     URY  debate fortieth session general assembly four ...    0.9996\n",
       "4  1989     ZWE  like outset express delegation satisfaction pl...    0.9999"
      ]
     },
     "execution_count": 12,
     "metadata": {},
     "output_type": "execute_result"
    }
   ],
   "source": [
    "#creamos una nueva columna que imprima la polaridad de todos los speechs\n",
    "data2[\"Polarity\"] = data2.Speech.apply(sentimentAnalysis)\n",
    "data2.head()"
   ]
  },
  {
   "cell_type": "markdown",
   "id": "c6cf67b7",
   "metadata": {},
   "source": [
    "Una vez analizada la polaridad vamos a agrupar los países para comprobar quién es más positivo y negativo en sus speechs:"
   ]
  },
  {
   "cell_type": "code",
   "execution_count": 13,
   "id": "f48631a4",
   "metadata": {},
   "outputs": [
    {
     "data": {
      "text/plain": [
       "SDN    46\n",
       "IRQ    46\n",
       "TUN    46\n",
       "NZL    46\n",
       "NLD    46\n",
       "       ..\n",
       "VAT    13\n",
       "TLS    13\n",
       "MNE    10\n",
       "SSD     5\n",
       "EU      5\n",
       "Name: Country, Length: 199, dtype: int64"
      ]
     },
     "execution_count": 13,
     "metadata": {},
     "output_type": "execute_result"
    }
   ],
   "source": [
    "data2.Country.value_counts()"
   ]
  },
  {
   "cell_type": "code",
   "execution_count": 14,
   "id": "4bf0f177",
   "metadata": {},
   "outputs": [
    {
     "data": {
      "text/html": [
       "<div>\n",
       "<style scoped>\n",
       "    .dataframe tbody tr th:only-of-type {\n",
       "        vertical-align: middle;\n",
       "    }\n",
       "\n",
       "    .dataframe tbody tr th {\n",
       "        vertical-align: top;\n",
       "    }\n",
       "\n",
       "    .dataframe thead th {\n",
       "        text-align: right;\n",
       "    }\n",
       "</style>\n",
       "<table border=\"1\" class=\"dataframe\">\n",
       "  <thead>\n",
       "    <tr style=\"text-align: right;\">\n",
       "      <th></th>\n",
       "      <th>Country</th>\n",
       "      <th>Polarity</th>\n",
       "    </tr>\n",
       "  </thead>\n",
       "  <tbody>\n",
       "    <tr>\n",
       "      <th>0</th>\n",
       "      <td>ISR</td>\n",
       "      <td>0.525035</td>\n",
       "    </tr>\n",
       "    <tr>\n",
       "      <th>1</th>\n",
       "      <td>SYR</td>\n",
       "      <td>0.610915</td>\n",
       "    </tr>\n",
       "    <tr>\n",
       "      <th>2</th>\n",
       "      <td>CUB</td>\n",
       "      <td>0.614974</td>\n",
       "    </tr>\n",
       "    <tr>\n",
       "      <th>3</th>\n",
       "      <td>IRN</td>\n",
       "      <td>0.669939</td>\n",
       "    </tr>\n",
       "    <tr>\n",
       "      <th>4</th>\n",
       "      <td>SGP</td>\n",
       "      <td>0.688682</td>\n",
       "    </tr>\n",
       "    <tr>\n",
       "      <th>...</th>\n",
       "      <td>...</td>\n",
       "      <td>...</td>\n",
       "    </tr>\n",
       "    <tr>\n",
       "      <th>194</th>\n",
       "      <td>FJI</td>\n",
       "      <td>0.999760</td>\n",
       "    </tr>\n",
       "    <tr>\n",
       "      <th>195</th>\n",
       "      <td>KOR</td>\n",
       "      <td>0.999776</td>\n",
       "    </tr>\n",
       "    <tr>\n",
       "      <th>196</th>\n",
       "      <td>THA</td>\n",
       "      <td>0.999784</td>\n",
       "    </tr>\n",
       "    <tr>\n",
       "      <th>197</th>\n",
       "      <td>CHN</td>\n",
       "      <td>0.999791</td>\n",
       "    </tr>\n",
       "    <tr>\n",
       "      <th>198</th>\n",
       "      <td>CSK</td>\n",
       "      <td>0.999836</td>\n",
       "    </tr>\n",
       "  </tbody>\n",
       "</table>\n",
       "<p>199 rows × 2 columns</p>\n",
       "</div>"
      ],
      "text/plain": [
       "    Country  Polarity\n",
       "0       ISR  0.525035\n",
       "1       SYR  0.610915\n",
       "2       CUB  0.614974\n",
       "3       IRN  0.669939\n",
       "4       SGP  0.688682\n",
       "..      ...       ...\n",
       "194     FJI  0.999760\n",
       "195     KOR  0.999776\n",
       "196     THA  0.999784\n",
       "197     CHN  0.999791\n",
       "198     CSK  0.999836\n",
       "\n",
       "[199 rows x 2 columns]"
      ]
     },
     "execution_count": 14,
     "metadata": {},
     "output_type": "execute_result"
    }
   ],
   "source": [
    "#país\n",
    "analisis = data2.groupby([\"Country\"])[\"Polarity\"].mean().sort_values().to_frame().reset_index()\n",
    "analisis"
   ]
  },
  {
   "cell_type": "code",
   "execution_count": 15,
   "id": "0c11a8d1",
   "metadata": {},
   "outputs": [
    {
     "data": {
      "text/plain": [
       "Country          ZWE\n",
       "Polarity    0.999836\n",
       "dtype: object"
      ]
     },
     "execution_count": 15,
     "metadata": {},
     "output_type": "execute_result"
    }
   ],
   "source": [
    "analisis.max()"
   ]
  },
  {
   "cell_type": "code",
   "execution_count": 16,
   "id": "2d70cbb6",
   "metadata": {},
   "outputs": [
    {
     "data": {
      "text/plain": [
       "Country          AFG\n",
       "Polarity    0.525035\n",
       "dtype: object"
      ]
     },
     "execution_count": 16,
     "metadata": {},
     "output_type": "execute_result"
    }
   ],
   "source": [
    "analisis.min()"
   ]
  },
  {
   "cell_type": "code",
   "execution_count": 17,
   "id": "e0fd9d3f",
   "metadata": {},
   "outputs": [],
   "source": [
    "#año\n",
    "analisis2 = data2.groupby([\"Year\"])[\"Polarity\"].mean().sort_values().to_frame().reset_index()\n",
    "#analisis2"
   ]
  },
  {
   "cell_type": "code",
   "execution_count": 18,
   "id": "dea43fd6",
   "metadata": {},
   "outputs": [
    {
     "data": {
      "text/plain": [
       "Year        2015.000000\n",
       "Polarity       0.999825\n",
       "dtype: float64"
      ]
     },
     "execution_count": 18,
     "metadata": {},
     "output_type": "execute_result"
    }
   ],
   "source": [
    "analisis2.max()"
   ]
  },
  {
   "cell_type": "code",
   "execution_count": 19,
   "id": "03774967",
   "metadata": {},
   "outputs": [
    {
     "data": {
      "text/plain": [
       "Year        1970.000000\n",
       "Polarity       0.720027\n",
       "dtype: float64"
      ]
     },
     "execution_count": 19,
     "metadata": {},
     "output_type": "execute_result"
    }
   ],
   "source": [
    "analisis2.min()"
   ]
  },
  {
   "cell_type": "markdown",
   "id": "b1b1be86",
   "metadata": {},
   "source": [
    "## Conclusiones 🥸"
   ]
  },
  {
   "cell_type": "markdown",
   "id": "0352bd21",
   "metadata": {},
   "source": [
    "En relación con los \"speechs\" pronunciados durante los debates de la UN se concluye que:\n",
    "    \n",
    "- El país más positivo es Zimbawe, mientras que el más negativo es Afganistán\n",
    "- El año 1970 fue el más negativo, siendo 2015 el año medido más positivo"
   ]
  },
  {
   "cell_type": "markdown",
   "id": "5d8465ee",
   "metadata": {},
   "source": [
    "### Índice global de felicidad 😁"
   ]
  },
  {
   "cell_type": "markdown",
   "id": "33a0b33b",
   "metadata": {},
   "source": [
    "El índice global de felicidad es una publicación anual de las Naciones Unidas que mide la felicidad en 157 países, basándose en diversos factores, como el PIB per cápita. \n",
    "\n",
    "***¿Coincidirá con las conclusiones analizadas de los speechs de los debates?***\n",
    "\n",
    "Para comprobarlo vamos a emplear la herramienta de webscrapping y extraer la tabla con el índice global de felicidad descargado de la [wikipedia](https://en.wikipedia.org/wiki/World_Happiness_Report)."
   ]
  },
  {
   "cell_type": "markdown",
   "id": "9dc51bef",
   "metadata": {},
   "source": [
    "#### Toma de datos 🎣"
   ]
  },
  {
   "cell_type": "code",
   "execution_count": 20,
   "id": "20e9fdf6",
   "metadata": {},
   "outputs": [],
   "source": [
    "url = \"https://en.wikipedia.org/wiki/World_Happiness_Report\""
   ]
  },
  {
   "cell_type": "code",
   "execution_count": 21,
   "id": "69d6b071",
   "metadata": {},
   "outputs": [],
   "source": [
    "html = requests.get(url)"
   ]
  },
  {
   "cell_type": "code",
   "execution_count": 22,
   "id": "a3dec5c5",
   "metadata": {},
   "outputs": [],
   "source": [
    "soup = BeautifulSoup(html.content, \"html.parser\")"
   ]
  },
  {
   "cell_type": "code",
   "execution_count": 23,
   "id": "218143bb",
   "metadata": {},
   "outputs": [],
   "source": [
    "#document.querySelectorAll(\"Table\").forEach(elm => elm.style.background = 'red')\n",
    "table = soup.find_all('table',{'class':'wikitable sortable'})[0]"
   ]
  },
  {
   "cell_type": "code",
   "execution_count": 24,
   "id": "af873a0d",
   "metadata": {},
   "outputs": [],
   "source": [
    "#reorganización de la tabla\n",
    "rows = table.find_all(\"tr\")\n",
    "rows = [row.text.replace(\"\\n\\n\", \",\").replace(\"\\n\", \",\").replace(\"\\xa0\", \"\").strip(\",\").split(\",\") for row in rows]"
   ]
  },
  {
   "cell_type": "code",
   "execution_count": 25,
   "id": "be08fe5b",
   "metadata": {},
   "outputs": [
    {
     "data": {
      "text/html": [
       "<div>\n",
       "<style scoped>\n",
       "    .dataframe tbody tr th:only-of-type {\n",
       "        vertical-align: middle;\n",
       "    }\n",
       "\n",
       "    .dataframe tbody tr th {\n",
       "        vertical-align: top;\n",
       "    }\n",
       "\n",
       "    .dataframe thead th {\n",
       "        text-align: right;\n",
       "    }\n",
       "</style>\n",
       "<table border=\"1\" class=\"dataframe\">\n",
       "  <thead>\n",
       "    <tr style=\"text-align: right;\">\n",
       "      <th></th>\n",
       "      <th>Overall rank</th>\n",
       "      <th>Country or region</th>\n",
       "      <th>Score</th>\n",
       "      <th>GDP per capita</th>\n",
       "      <th>Social support</th>\n",
       "      <th>Healthy life expectancy</th>\n",
       "      <th>Freedom to make life choices</th>\n",
       "      <th>Generosity</th>\n",
       "      <th>Perceptions of corruption</th>\n",
       "    </tr>\n",
       "  </thead>\n",
       "  <tbody>\n",
       "    <tr>\n",
       "      <th>0</th>\n",
       "      <td>1</td>\n",
       "      <td>Finland</td>\n",
       "      <td>7.809</td>\n",
       "      <td>1.285</td>\n",
       "      <td>1.500</td>\n",
       "      <td>0.961</td>\n",
       "      <td>0.662</td>\n",
       "      <td>0.160</td>\n",
       "      <td>0.478</td>\n",
       "    </tr>\n",
       "    <tr>\n",
       "      <th>1</th>\n",
       "      <td>2</td>\n",
       "      <td>Denmark</td>\n",
       "      <td>7.646</td>\n",
       "      <td>1.327</td>\n",
       "      <td>1.503</td>\n",
       "      <td>0.979</td>\n",
       "      <td>0.665</td>\n",
       "      <td>0.243</td>\n",
       "      <td>0.495</td>\n",
       "    </tr>\n",
       "    <tr>\n",
       "      <th>2</th>\n",
       "      <td>3</td>\n",
       "      <td>Switzerland</td>\n",
       "      <td>7.560</td>\n",
       "      <td>1.391</td>\n",
       "      <td>1.472</td>\n",
       "      <td>1.041</td>\n",
       "      <td>0.629</td>\n",
       "      <td>0.269</td>\n",
       "      <td>0.408</td>\n",
       "    </tr>\n",
       "    <tr>\n",
       "      <th>3</th>\n",
       "      <td>4</td>\n",
       "      <td>Iceland</td>\n",
       "      <td>7.504</td>\n",
       "      <td>1.327</td>\n",
       "      <td>1.548</td>\n",
       "      <td>1.001</td>\n",
       "      <td>0.662</td>\n",
       "      <td>0.362</td>\n",
       "      <td>0.145</td>\n",
       "    </tr>\n",
       "    <tr>\n",
       "      <th>4</th>\n",
       "      <td>5</td>\n",
       "      <td>Norway</td>\n",
       "      <td>7.488</td>\n",
       "      <td>1.424</td>\n",
       "      <td>1.495</td>\n",
       "      <td>1.008</td>\n",
       "      <td>0.670</td>\n",
       "      <td>0.288</td>\n",
       "      <td>0.434</td>\n",
       "    </tr>\n",
       "    <tr>\n",
       "      <th>5</th>\n",
       "      <td>6</td>\n",
       "      <td>Netherlands</td>\n",
       "      <td>7.449</td>\n",
       "      <td>1.339</td>\n",
       "      <td>1.464</td>\n",
       "      <td>0.976</td>\n",
       "      <td>0.614</td>\n",
       "      <td>0.336</td>\n",
       "      <td>0.369</td>\n",
       "    </tr>\n",
       "    <tr>\n",
       "      <th>6</th>\n",
       "      <td>7</td>\n",
       "      <td>Sweden</td>\n",
       "      <td>7.353</td>\n",
       "      <td>1.322</td>\n",
       "      <td>1.433</td>\n",
       "      <td>0.986</td>\n",
       "      <td>0.650</td>\n",
       "      <td>0.273</td>\n",
       "      <td>0.442</td>\n",
       "    </tr>\n",
       "    <tr>\n",
       "      <th>7</th>\n",
       "      <td>8</td>\n",
       "      <td>New Zealand</td>\n",
       "      <td>7.300</td>\n",
       "      <td>1.242</td>\n",
       "      <td>1.487</td>\n",
       "      <td>1.008</td>\n",
       "      <td>0.647</td>\n",
       "      <td>0.326</td>\n",
       "      <td>0.461</td>\n",
       "    </tr>\n",
       "    <tr>\n",
       "      <th>8</th>\n",
       "      <td>9</td>\n",
       "      <td>Austria</td>\n",
       "      <td>7.294</td>\n",
       "      <td>1.317</td>\n",
       "      <td>1.437</td>\n",
       "      <td>1.001</td>\n",
       "      <td>0.603</td>\n",
       "      <td>0.256</td>\n",
       "      <td>0.281</td>\n",
       "    </tr>\n",
       "    <tr>\n",
       "      <th>9</th>\n",
       "      <td>10</td>\n",
       "      <td>Luxembourg</td>\n",
       "      <td>7.238</td>\n",
       "      <td>1.537</td>\n",
       "      <td>1.388</td>\n",
       "      <td>0.986</td>\n",
       "      <td>0.610</td>\n",
       "      <td>0.196</td>\n",
       "      <td>0.367</td>\n",
       "    </tr>\n",
       "  </tbody>\n",
       "</table>\n",
       "</div>"
      ],
      "text/plain": [
       "  Overall rank Country or region  Score GDP per capita Social support  \\\n",
       "0            1           Finland  7.809          1.285          1.500   \n",
       "1            2           Denmark  7.646          1.327          1.503   \n",
       "2            3       Switzerland  7.560          1.391          1.472   \n",
       "3            4           Iceland  7.504          1.327          1.548   \n",
       "4            5            Norway  7.488          1.424          1.495   \n",
       "5            6       Netherlands  7.449          1.339          1.464   \n",
       "6            7            Sweden  7.353          1.322          1.433   \n",
       "7            8       New Zealand  7.300          1.242          1.487   \n",
       "8            9           Austria  7.294          1.317          1.437   \n",
       "9           10        Luxembourg  7.238          1.537          1.388   \n",
       "\n",
       "  Healthy life expectancy Freedom to make life choices Generosity  \\\n",
       "0                   0.961                        0.662      0.160   \n",
       "1                   0.979                        0.665      0.243   \n",
       "2                   1.041                        0.629      0.269   \n",
       "3                   1.001                        0.662      0.362   \n",
       "4                   1.008                        0.670      0.288   \n",
       "5                   0.976                        0.614      0.336   \n",
       "6                   0.986                        0.650      0.273   \n",
       "7                   1.008                        0.647      0.326   \n",
       "8                   1.001                        0.603      0.256   \n",
       "9                   0.986                        0.610      0.196   \n",
       "\n",
       "  Perceptions of corruption  \n",
       "0                     0.478  \n",
       "1                     0.495  \n",
       "2                     0.408  \n",
       "3                     0.145  \n",
       "4                     0.434  \n",
       "5                     0.369  \n",
       "6                     0.442  \n",
       "7                     0.461  \n",
       "8                     0.281  \n",
       "9                     0.367  "
      ]
     },
     "execution_count": 25,
     "metadata": {},
     "output_type": "execute_result"
    }
   ],
   "source": [
    "#creación del dataframe\n",
    "nombre_columnas = rows[0]\n",
    "data = rows[1:]\n",
    "felicidad = pd.DataFrame(data, columns=nombre_columnas)\n",
    "felicidad.head(10)"
   ]
  },
  {
   "cell_type": "code",
   "execution_count": 26,
   "id": "b2989267",
   "metadata": {},
   "outputs": [],
   "source": [
    "#reenombramos las columnas\n",
    "felicidad.columns = [\"Ranking\", \"País\", \"Puntuación\", \"PIB\", \"Apoyo social\", \"Esperanza de vida\", \"Libertad\", \"Generosidad\", \"Corrupción\"]"
   ]
  },
  {
   "cell_type": "code",
   "execution_count": 32,
   "id": "82e8540d",
   "metadata": {},
   "outputs": [
    {
     "data": {
      "text/html": [
       "<div>\n",
       "<style scoped>\n",
       "    .dataframe tbody tr th:only-of-type {\n",
       "        vertical-align: middle;\n",
       "    }\n",
       "\n",
       "    .dataframe tbody tr th {\n",
       "        vertical-align: top;\n",
       "    }\n",
       "\n",
       "    .dataframe thead th {\n",
       "        text-align: right;\n",
       "    }\n",
       "</style>\n",
       "<table border=\"1\" class=\"dataframe\">\n",
       "  <thead>\n",
       "    <tr style=\"text-align: right;\">\n",
       "      <th></th>\n",
       "      <th>Ranking</th>\n",
       "      <th>País</th>\n",
       "      <th>Puntuación</th>\n",
       "    </tr>\n",
       "  </thead>\n",
       "  <tbody>\n",
       "    <tr>\n",
       "      <th>0</th>\n",
       "      <td>1</td>\n",
       "      <td>Finland</td>\n",
       "      <td>7.809</td>\n",
       "    </tr>\n",
       "    <tr>\n",
       "      <th>1</th>\n",
       "      <td>2</td>\n",
       "      <td>Denmark</td>\n",
       "      <td>7.646</td>\n",
       "    </tr>\n",
       "    <tr>\n",
       "      <th>2</th>\n",
       "      <td>3</td>\n",
       "      <td>Switzerland</td>\n",
       "      <td>7.560</td>\n",
       "    </tr>\n",
       "    <tr>\n",
       "      <th>3</th>\n",
       "      <td>4</td>\n",
       "      <td>Iceland</td>\n",
       "      <td>7.504</td>\n",
       "    </tr>\n",
       "    <tr>\n",
       "      <th>4</th>\n",
       "      <td>5</td>\n",
       "      <td>Norway</td>\n",
       "      <td>7.488</td>\n",
       "    </tr>\n",
       "  </tbody>\n",
       "</table>\n",
       "</div>"
      ],
      "text/plain": [
       "  Ranking         País Puntuación\n",
       "0       1      Finland      7.809\n",
       "1       2      Denmark      7.646\n",
       "2       3  Switzerland      7.560\n",
       "3       4      Iceland      7.504\n",
       "4       5       Norway      7.488"
      ]
     },
     "execution_count": 32,
     "metadata": {},
     "output_type": "execute_result"
    }
   ],
   "source": [
    "#eliminamos las columnas cuya información no es relevante\n",
    "felicidad2 = felicidad.drop([\"PIB\", \"Apoyo social\", \"Esperanza de vida\", \"Libertad\", \"Generosidad\", \"Corrupción\"], axis=1)\n",
    "felicidad2.head()"
   ]
  },
  {
   "cell_type": "markdown",
   "id": "db351674",
   "metadata": {},
   "source": [
    "#### Comparación 👩🏼‍💻"
   ]
  },
  {
   "cell_type": "code",
   "execution_count": 30,
   "id": "d81ae840",
   "metadata": {},
   "outputs": [
    {
     "data": {
      "text/html": [
       "<div>\n",
       "<style scoped>\n",
       "    .dataframe tbody tr th:only-of-type {\n",
       "        vertical-align: middle;\n",
       "    }\n",
       "\n",
       "    .dataframe tbody tr th {\n",
       "        vertical-align: top;\n",
       "    }\n",
       "\n",
       "    .dataframe thead th {\n",
       "        text-align: right;\n",
       "    }\n",
       "</style>\n",
       "<table border=\"1\" class=\"dataframe\">\n",
       "  <thead>\n",
       "    <tr style=\"text-align: right;\">\n",
       "      <th></th>\n",
       "      <th>Ranking</th>\n",
       "      <th>País</th>\n",
       "      <th>Puntuación</th>\n",
       "    </tr>\n",
       "  </thead>\n",
       "  <tbody>\n",
       "    <tr>\n",
       "      <th>150</th>\n",
       "      <td>151</td>\n",
       "      <td>Zimbabwe</td>\n",
       "      <td>3.299</td>\n",
       "    </tr>\n",
       "  </tbody>\n",
       "</table>\n",
       "</div>"
      ],
      "text/plain": [
       "    Ranking      País Puntuación\n",
       "150     151  Zimbabwe      3.299"
      ]
     },
     "execution_count": 30,
     "metadata": {},
     "output_type": "execute_result"
    }
   ],
   "source": [
    "zimbabue = felicidad2[felicidad2[\"País\"] == \"Zimbabwe\"]\n",
    "zimbabue"
   ]
  },
  {
   "cell_type": "code",
   "execution_count": 31,
   "id": "cda69a0f",
   "metadata": {},
   "outputs": [
    {
     "data": {
      "text/html": [
       "<div>\n",
       "<style scoped>\n",
       "    .dataframe tbody tr th:only-of-type {\n",
       "        vertical-align: middle;\n",
       "    }\n",
       "\n",
       "    .dataframe tbody tr th {\n",
       "        vertical-align: top;\n",
       "    }\n",
       "\n",
       "    .dataframe thead th {\n",
       "        text-align: right;\n",
       "    }\n",
       "</style>\n",
       "<table border=\"1\" class=\"dataframe\">\n",
       "  <thead>\n",
       "    <tr style=\"text-align: right;\">\n",
       "      <th></th>\n",
       "      <th>Ranking</th>\n",
       "      <th>País</th>\n",
       "      <th>Puntuación</th>\n",
       "    </tr>\n",
       "  </thead>\n",
       "  <tbody>\n",
       "    <tr>\n",
       "      <th>152</th>\n",
       "      <td>153</td>\n",
       "      <td>Afghanistan</td>\n",
       "      <td>2.567</td>\n",
       "    </tr>\n",
       "  </tbody>\n",
       "</table>\n",
       "</div>"
      ],
      "text/plain": [
       "    Ranking         País Puntuación\n",
       "152     153  Afghanistan      2.567"
      ]
     },
     "execution_count": 31,
     "metadata": {},
     "output_type": "execute_result"
    }
   ],
   "source": [
    "afganistan = felicidad2[felicidad2[\"País\"] == \"Afghanistan\"]\n",
    "afganistan"
   ]
  },
  {
   "cell_type": "markdown",
   "id": "01f26110",
   "metadata": {},
   "source": [
    "#### Resultados 💬"
   ]
  },
  {
   "cell_type": "markdown",
   "id": "84394958",
   "metadata": {},
   "source": [
    "Resulta curioso en el caso de Zimbawe que siendo el país cuyos speechs son más positivos se encuentre de los últimos países en el ranking de felicidad. Ello también puede darse debido a lo medido valorizado como aquellos índices que proporcionan felicidad (pib, corrupción, esperanza de vida...etc).\n",
    "\n",
    "En el caso de Afganistán se encuentra el último en la lista (\"país más infeliz\"), lo cual coincide con la negatividad de sus speechs. \n",
    "\n",
    "Desde el punto de vista de Finlandia considerado el país más feliz del mundo... Su polaridad es de:"
   ]
  },
  {
   "cell_type": "code",
   "execution_count": 33,
   "id": "556f5ae9",
   "metadata": {},
   "outputs": [
    {
     "data": {
      "text/html": [
       "<div>\n",
       "<style scoped>\n",
       "    .dataframe tbody tr th:only-of-type {\n",
       "        vertical-align: middle;\n",
       "    }\n",
       "\n",
       "    .dataframe tbody tr th {\n",
       "        vertical-align: top;\n",
       "    }\n",
       "\n",
       "    .dataframe thead th {\n",
       "        text-align: right;\n",
       "    }\n",
       "</style>\n",
       "<table border=\"1\" class=\"dataframe\">\n",
       "  <thead>\n",
       "    <tr style=\"text-align: right;\">\n",
       "      <th></th>\n",
       "      <th>Country</th>\n",
       "      <th>Polarity</th>\n",
       "    </tr>\n",
       "  </thead>\n",
       "  <tbody>\n",
       "    <tr>\n",
       "      <th>142</th>\n",
       "      <td>FIN</td>\n",
       "      <td>0.999367</td>\n",
       "    </tr>\n",
       "  </tbody>\n",
       "</table>\n",
       "</div>"
      ],
      "text/plain": [
       "    Country  Polarity\n",
       "142     FIN  0.999367"
      ]
     },
     "execution_count": 33,
     "metadata": {},
     "output_type": "execute_result"
    }
   ],
   "source": [
    "finlandia = analisis[analisis[\"Country\"] == \"FIN\"]\n",
    "finlandia"
   ]
  },
  {
   "cell_type": "markdown",
   "id": "af5b15bc",
   "metadata": {},
   "source": [
    "Contrastando que sus speechs también son muy positivos."
   ]
  }
 ],
 "metadata": {
  "kernelspec": {
   "display_name": "OLAYA1",
   "language": "python",
   "name": "olaya1"
  },
  "language_info": {
   "codemirror_mode": {
    "name": "ipython",
    "version": 3
   },
   "file_extension": ".py",
   "mimetype": "text/x-python",
   "name": "python",
   "nbconvert_exporter": "python",
   "pygments_lexer": "ipython3",
   "version": "3.8.5"
  }
 },
 "nbformat": 4,
 "nbformat_minor": 5
}
