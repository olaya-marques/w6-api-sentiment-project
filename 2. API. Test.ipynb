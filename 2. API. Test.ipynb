{
 "cells": [
  {
   "cell_type": "markdown",
   "id": "c1341360",
   "metadata": {},
   "source": [
    "# Testeando la API 🧪"
   ]
  },
  {
   "cell_type": "markdown",
   "id": "9dc704e8",
   "metadata": {},
   "source": [
    "En este jupyter notebook se encuentras las pruebas y llamadas a la API creada para comprobar su correcto funcionamiento."
   ]
  },
  {
   "cell_type": "markdown",
   "id": "02679145",
   "metadata": {},
   "source": [
    "## Índice 📎"
   ]
  },
  {
   "cell_type": "markdown",
   "id": "fd3b95c7",
   "metadata": {},
   "source": [
    "- Importación de librerias y funciones\n",
    "- Funciones GET\n",
    "- Funciones GET Dinámicas (parametrizadas)\n",
    "- Funciones POST"
   ]
  },
  {
   "cell_type": "markdown",
   "id": "6bec9495",
   "metadata": {},
   "source": [
    "## 1. Importación de librerias y funciones 📚"
   ]
  },
  {
   "cell_type": "code",
   "execution_count": 1,
   "id": "8ff81c13",
   "metadata": {},
   "outputs": [],
   "source": [
    "import requests"
   ]
  },
  {
   "cell_type": "markdown",
   "id": "8ce237c3",
   "metadata": {},
   "source": [
    "## 2. Funciones GET 🎯"
   ]
  },
  {
   "cell_type": "markdown",
   "id": "9609ec3f",
   "metadata": {},
   "source": [
    "*A continuación se testean algunos de los endpoints que se pueden utilizar en la API*\n",
    "\n",
    "- Ejemplo 1: country. Te muestra la lista de los países analizados en la base de datos UN General Debates"
   ]
  },
  {
   "cell_type": "code",
   "execution_count": 7,
   "id": "8618865e",
   "metadata": {},
   "outputs": [],
   "source": [
    "url = \"http://192.168.1.53:5000\""
   ]
  },
  {
   "cell_type": "code",
   "execution_count": 8,
   "id": "38dca524",
   "metadata": {},
   "outputs": [],
   "source": [
    "endpoint1 = \"/country\""
   ]
  },
  {
   "cell_type": "code",
   "execution_count": 13,
   "id": "7b8e98ec",
   "metadata": {},
   "outputs": [],
   "source": [
    "res = requests.get(url+endpoint1)"
   ]
  },
  {
   "cell_type": "code",
   "execution_count": 14,
   "id": "99141b41",
   "metadata": {},
   "outputs": [
    {
     "data": {
      "text/plain": [
       "['AFG', 'AGO', 'ALB', 'AND', 'ARE', 'ARG', 'ARM', 'ATG', 'AUS', 'AUT']"
      ]
     },
     "execution_count": 14,
     "metadata": {},
     "output_type": "execute_result"
    }
   ],
   "source": [
    "res.json()[:10]"
   ]
  },
  {
   "cell_type": "markdown",
   "id": "fc1bdf30",
   "metadata": {},
   "source": [
    "- Ejemplo 2: year. Te muestra la lista de los años analizados en la base de datos UN General Debates"
   ]
  },
  {
   "cell_type": "code",
   "execution_count": 15,
   "id": "05c5969b",
   "metadata": {},
   "outputs": [],
   "source": [
    "url = \"http://192.168.1.53:5000\""
   ]
  },
  {
   "cell_type": "code",
   "execution_count": 16,
   "id": "bc0b2732",
   "metadata": {},
   "outputs": [],
   "source": [
    "endpoint2 = \"/year\""
   ]
  },
  {
   "cell_type": "code",
   "execution_count": 17,
   "id": "367244ce",
   "metadata": {},
   "outputs": [],
   "source": [
    "res = requests.get(url+endpoint2)"
   ]
  },
  {
   "cell_type": "code",
   "execution_count": 18,
   "id": "d6c98840",
   "metadata": {},
   "outputs": [
    {
     "data": {
      "text/plain": [
       "[1970, 1971, 1972, 1973, 1974, 1975, 1976, 1977, 1978, 1979]"
      ]
     },
     "execution_count": 18,
     "metadata": {},
     "output_type": "execute_result"
    }
   ],
   "source": [
    "res.json()[:10]"
   ]
  },
  {
   "cell_type": "markdown",
   "id": "e7b63f6c",
   "metadata": {},
   "source": [
    "## 3. Funciones GET Dinámicas (parametrizadas) 🎯"
   ]
  },
  {
   "cell_type": "markdown",
   "id": "0a92b68e",
   "metadata": {},
   "source": [
    "*A continuación se testean algunos de los endpoints que se pueden utilizar en la API, en las llamadas en las que el usuario puede introducir variables más específicas.*\n",
    "\n",
    "- Ejemplo 1: country. Te muestra la lista de datos para un país dado por el usuario"
   ]
  },
  {
   "cell_type": "code",
   "execution_count": 8,
   "id": "5eab045f",
   "metadata": {},
   "outputs": [],
   "source": [
    "country = \"AFG\""
   ]
  },
  {
   "cell_type": "code",
   "execution_count": 9,
   "id": "134e8e6e",
   "metadata": {},
   "outputs": [],
   "source": [
    "url = \"http://192.168.1.53:5000\""
   ]
  },
  {
   "cell_type": "code",
   "execution_count": 10,
   "id": "4ffb6c1c",
   "metadata": {},
   "outputs": [],
   "source": [
    "endpoint3 = f\"/speech_country/{country}\""
   ]
  },
  {
   "cell_type": "code",
   "execution_count": 11,
   "id": "57b81120",
   "metadata": {},
   "outputs": [],
   "source": [
    "res = requests.get(url+endpoint3)"
   ]
  },
  {
   "cell_type": "code",
   "execution_count": 13,
   "id": "2fc5eeff",
   "metadata": {
    "scrolled": false
   },
   "outputs": [
    {
     "data": {
      "text/plain": [
       "{'Country': 'AFG',\n",
       " 'Speech': \"it gives me pleasure at the very outset to convey to major general garba my sincere congratulations on his election to the prestigious position of president of this world body at its forty fourth session  his election is a tribute both to his country, nigeria, which has demonstrated its unflinching loyalty to the principles and purposes of the united nations charter, and to his own vast ability, skill and experience  let me also pay a tribute to his predecessor, his excellency mr  dante caputo of argentina, for his outstanding record at the helm of the general assembly at its forty third session  i should like also to express our gratitude to the secretary general, mr  javier perez de cuellar, for his relentless efforts to enhance the role of the organization in the maintenance of international peace and security and the solution of global problems  we urge that his role in finding peaceful, comprehensive solutions to regional problems receive full support from the security council and the general assembly  today's world, fortunately, is marked by a general relaxation of tension in international relations and improved prospects for finding peaceful and lasting solutions to global and regional problems  new vistas of co operation or  the multilateral, regional and bilateral levels have been opened, facilitating the solution of common security, political, economic and environmental problems that have plagued our world  mutual relations between the united states and the soviet union are improving, and confrontation between the two has eased considerably  progress has been made also in negotiations on the reduction or elimination of various types of nuclear, chemical and conventional weapons, while the destruction of at least one category of nuclear weapons is already under way  the need for speedy solution of regional problems has been universally acknowledged, although the process of achieving this has been painfully slow  peoples in various parts of the world, including our own region, are still the victims of senseless wars and destruction because old policies based on confrontation have not been abandoned in the interest of regional peace and harmony  in the middle east, we condemn the continued israeli occupation of palestinian and other arab lands, including jerusalem and the syrian golan heights, and israel's iron fist policy against the heroic palestinian intifadah  the convening of an international conference with the full participation of all parties concerned, including the state of palestine, on an equal footing, remains the only possible avenue for resolving the middle east conflict  the republic of afghanistan welcomes the cessation of war and the commencement of talks between iran and iraq  we sincerely hope they will find an honourable and lasting solution to all their differences in the near future   in cyprus, we welcome meetings between the president and the leader of the turkish cypriot community, and we support a peaceful solution achieved through dialogue and based on the independence, territorial integrity and national sovereignty of cyprus  we welcome the withdrawal of vietnamese troops from kampuchea and demand that an end be put to all forms of interference in the internal affairs of kampuchea  all efforts should be made to restore peace in the country and to let kampucheans themselves solve their internal difficulties  we also support the korean people's quest for peaceful reunification and national unity through dialogue and reconciliation  in southern africa, the continuation of the abhorrent policy of apartheid is the source of great human suffering, destabilization and conflict  we demand the full implementation of security council resolution 435 (1978) and believe the secretary general and the united nations transition assistance group should be rendered full support so they may supervise a free, democratic and unhindered election and the achievement of full independence for namibia  we welcome the high level meeting between morocco and the polisario front, and support the efforts of the secretary general and the current chairman of the organization of african unity towards the holding of a fair referendum without administrative or military constraints  we support the accord reached among five central american countries on putting an end to war and destruction in nicaragua and hope for its unhindered implementation  it is also our hope that the question of the malvinas may be promptly resolved on the basis of general assembly resolutions, eliminating the differences between argentina and the united kingdom  the disparities in economic development between developed and developing countries is deepening constantly, while the economic and social situation in most developing countries continues to deteriorate further  the plight of the least developed countries has reached a particularly distressing level because the substantial new programme of action for the 1980s for the least developed countries has not been implemented  growth and development in developing countries continue to be mostly stagnant or to register negative rates  commodity prices remain low and terms of trade are worsening, and protectionist measures on the part of developed countries have been on the increase  the problem of debt and debt servicing has become unbearable for developing countries, resulting in a net flow of financial resources from developing to developed countries  we welcome the convening in april 1990 of a special session of the general assembly and hope the fourth united nations development decade will reverse the adverse trends experienced during the third decade  it is also our earnest hope that the second united nations conference on the least developed countries, scheduled for 1990 in paris, will adopt adequate measures for implementing general assembly resolutions on acceleration of the development process in the least developed countries in the 1990s  despite our sincere wishes and concerted efforts, and contrary to the general trend of improvement in the international climate, the situation in our region remains far from satisfactory  if anything, it has deteriorated further  aggression against afghanistan and interference and intervention in its internal affairs have acquired new dimensions  the complete withdrawal of soviet troops from afghanistan and our sincere compliance with the provisions of the geneva agreements notwithstanding, these agreements have been sabotaged by pakistan  prom 15 february to the end of august 1989, 18 different types of weapons have been put in the hands of extremist groups trained in pakistan to continue the blood bath in afghanistan  these weapons include 250 ground to ground rocket launchers, 110 pieces of field artillery and mortars, 120 recoilless artillery, 550 air defence missile complexes, 2,950 heavy machine guns, 4,500 manual rocket launchers and 200,000 different types of ground to ground rockets  the number of military training centres for the extremists in pakistan has now reached 180, marking an increase after the entry into force of the geneva agreements  each week between 30 and 35 armed groups, comprising 1,200 to 1,500 people trained in these centres, are infiltrated into afghanistan to bring death and destruction  units from pakistan's 11th division are directly participating in the fighting inside afghanistan  so do mercenary wahabis from saudi arabia, which is also putting generous financial assistance in the hands of the extremists  similarly, from 15 february to the end of august 1989, a total of 413,102 rockets and heavy artillery shells have rained down on the inhabitants of the cities of afghanistan  what has been the result? thousands of civilians killed and thousands more injured  in kabul alone, 1,383 rockets have claimed the lives of 671 people and injured another 1,014  recently even the aeroplane used by the representative of the secretary general was not spared such rocket attacks  as recently as 22 and 23 september, a total of 40 rockets were fired on kabul   on the ewe of the general assembly   killing 41 people and injuring 59  one of the rockets hit a crowded market place  this is blind terrorism perpetuated by the interventionist policy of one of the signatories to the geneva agreements  the resort to rocket attacks on cities and the blind and indiscriminate terrorist attacks against civilians testify not to the strength of the extremists but to their weakness  it is the result of crushing defeats of these groups in jalalabad, khost, kandahar and elsewhere in afghanistan  the heroic armed forces of afghanistan defending the independence, territorial integrity and national sovereignty of the country, as is their patriotic duty, have dealt these hirelings of the aliens so crushing a blow that they do not dare any more, even with the direct assistance and participation of the pakistani army, to face the defenders of afghanistan  the result has been desperate rocket attacks on cities and the indiscriminate murder of innocent men, women and children  these attacks cannot, however, compensate for the moral, political and military bankruptcy of the extremist groups, nor can they revive in the rank and file of the opposition the lost hope of a military victory  many commanders inside the country have by now realized the need for ending this fratricidal war and restoring peace through national reconciliation  what pakistan is continuing against afghanistan is state terrorism, which has been condemned by the assembly as well as by the non aligned movement in a resolution adopted at the belgrade summit meeting  if internal problems in a neighbouring country should be taken to constitute a basis for policy towards that neighbour, who can predict what could happen to pakistan and what its future would be? the punjabis, sindis, pashtoons and baluchis are all tired of the increasing domination of the pakistani military  however, these are pakistani problems and we, as neighbours, do not arrogate to ourselves the right to get involved in them  nor do we believe in creating governments for others outside their country   the hope for military victory which was crushed at jalalabad has been further lest during what was termed the sunnier fighting season  no new deadline of 12 or 18 months will accomplish through military means what was supposed to happen weeks or even days after 15 february of this year but did not  but the question is  how many more afghans have to go down the drain of a senseless fratricidal war for the planners and executors of the war to realize the futility of the military option? how much more must afghanistan, a least developed country, be destroyed before a military solution is abandoned in favour of a political solution? the time to bring peace to afghanistan is now  every day that passes claims the lives of more of its people and brings more havoc to its economy  the grounds for peace, for reconciliation, for the establishment of a broad based government exist in afghanistan  what is required is the abandonment of old policies, of intransigent positions and of disregard for reality  the path to arrive at peace in afghanistan is clear  full and faithful implementation of the geneva agreements by the parties and guarantors and the implementation of consensus resolutions of the general assembly are the most important and basic steps in that direction  putting an immediate end to interference and intervention in the internal affairs of afghanistan, as clearly stipulated by the agreements, can and must play a cardinal role in realizing peace  pakistan's sincere co operation with the united nations good offices mission to afghanistan and pakistan (unq3map) can turn it from its present ineffectiveness into one that fully supervises the implementation of all the provisions of the geneva agreements  so far, the government of afghanistan has brought to the notice of ungomap 6,492 cases of flagrant violations of the geneva agreements through 827 notes delivered to its headquarters in kabul  these cases cover violations of every single provision of the geneva document on non interference and non intervention, such as, among other things, the dismantling of bases, refraining from the dispatch of armed groups and the transfer of arms and not committing acts that would undermine the stability of the other high contracting party  none of these violations has been investigated exactly as stipulated in the geneva agreements, owing to pakistan's complete disregard for the accords  the continuation of war, destruction, great human suffering and loss of life in my country is a telling testimony to the complete neglect of all the provisions of the geneva agreements by pakistan  when the flames of war, aggression and intervention are still increasingly swallowing up lives and properties of the people of afghanistan, any claim that the geneva agreements' provisions on non interference and non intervention are being implemented can obviously not be taken seriously  the people of afghanistan and the international community are beginning to question the sincerity and good will of pakistan in signing the geneva agreements, as well as the actual observance and supervision of their implementation  the statement made at the opening of the general debate by the president of the united states of america, mr  george bush, and his words on the need to work together in the framework of the united nations to bring peace to those who have fallen victim to regional conflicts are encouraging  a positive change in united states policy, from putting the means of war and destruction in the hands of extremists to assisting and contributing to the peace process in afghanistan, would play a significant role in putting those words into effect  war cannot accomplish any policy goals and the so called interim government, illegally established by islamabad, cannot gain even a grain of legitimacy  the situation has already disintegrated into infighting and armed clashes inside afghanistan  the policy of supplying them with huge quantities of advanced weapons cannot serve the united states interest in the region, while in the long run the continuation of war, destruction and human suffering in afghanistan will further damage its standing among the afghan people  peaceful ways of arriving at policy objectives are certainly there and must be sought  the situation in afghanistan has changed since 15 february 1989  the people's democratic party of afghanistan has abandoned the monopoly on power  therefore, the continuation of previous policies by the united states administration is not realistic  this has been reflected in the united states mass media and also in the united states congress  we are ready to welcome in kabul a special envoy of the united states administration for a fact finding mission and an exchange of views  we believe that such a trip would allow the united states to get first hand knowledge of the present reality in afghan society and of our goodwill in regard to restoring peace and for a democratic system based on political pluralism and a free economy  as is the case in most other parts of the world, in our region too the traffic in arms and narcotics go hand in hand  the involvement of afghan extremist groups in the production and smuggling of drugs during the past 10 years has brought about a very dangerous situation  the republic of afghanistan stands ready fully to co operate in eradicating this serious problem  we welcome the positive and realistic trends in the policy of our neighbour to the west, the islamic republic of iran  from the great country of china, another neighbour of afghanistan, we expect a more positive contribution to the restoration of peace in our country  we, on our part, are ready to have normal, friendly relations with all the countries of the world, particularly our neighbours  the question of the safe, voluntary and honourable return of afghan refugees requires urgent attention  those who perpetuate the war in afghanistan must not cite the continuation of the war as a pretext for their policy of hindering the return of the refugees  while we express our gratitude to all these countries, the united nations high commissioner for refugees and other organizations and agencies for having provided for our afghan brothers while they were refugees, we believe the time has come for such assistance to be geared towards their repatriation to their homeland and reintegration in the life of their country  we urge pakistan to co operate in the establishment of mixed commissions  the establishment of these commissions, which according to the geneva agreements should have occurred immediately after the entry into force of the agreements 16 months ago, is long overdue  the reconstruction of afghanistan requires urgent international, governmental and non 1governmental assistance  unfortunately, 3wever, a number of countries have refrained from putting at the disposal of the united nations coordinator for economic and humanitarian assistance to afghanistan the assistance they have already pledged  assistance to the people of afghanistan should not fall victim to political considerations  as regards the internal aspect of the difficulties of afghanistan, our stand has been set forth on several occasions, most recently by the president of the republic, mr  najibullah, in his address to the ninth conference of the heads of state or government of the movement of non aligned countries in belgrade  allow me to reiterate briefly the main contents of the position of the republic of afghanistan  we believe that dialogue should start among all afghan political forces inside and outside afghanistan aimed at holding a nation wide peace conference with the participation of all forces concerned  the conference should agree on a leadership council and declare a six month long cease fire  during that period the leadership council should establish a broad based coalition government and create a commission to draft a new constitution and the law on general elections for its approval  following the adoption of the new constitution and the law on elections by a traditional loya jirgah called by the leadership council, general elections through direct, secret ballot should be held  a new government formed by one or more political parties enjoying a majority shall govern the country in accordance with the new constitution  we stand ready for the supervision of the general elections by an international commission  the republic of afghanistan believes that a peaceful political solution must be comprehensive and just, and one in which all political forces must participate  leaving any political force, including the people's democratic party of afghanistan out of the coalition, not only will not solve the problem but will create serious obstacles  the level of participation in the state structure should be subject to negotiation, but participation itself should not  peace in afghanistan must come through rational concessions accepted by all  these concessions should be aimed at eradicating all the grounds for conflict and war and not at sowing the seeds of yet another war  it is an open secret that a great number of commanders have boycotted the leadership of organizations based in pakistan, realizing their servitude to the enemies of our homeland  a number of commanders have opened talks with the state and they are observing cease fires in areas under their control  contacts with others are continuing and, sooner rather than later, cast negative feelings and mistrust will give way to friendship, brotherhood and unity  the leadership of the republic of afghanistan has faith in armed opposition commanders because it is they who will bring the blessings of life and tranquillity to the people in the areas under their control  similarly, the leadership of the republic of afghanistan will continue its policy of national reconciliation despite the irrational position adopted at present by the leaders of extremist organizations based in pakistan  for us, the national interests of afghanistan and the restoration of peace in our country are above any group, tribal, ethnic, political, party or ideological interests  the external aspects of the situation around afghanistan could best be resolved by convening an international conference with the participation of afghanistan, pakistan, iran, india, china, the united states, the soviet union and the chairman of the movement of non aligned countries  the conference, which at the outset would agree on putting an end to the delivery of weapons to all factions in afghanistan, should guarantee afghanistan's permanently neutral and demilitarised status, which would be enshrined in the new constitution  because of pakistani aggression, interference and intervention, the republic of afghanistan came before the security council in april this year  except for a very few delegations, the overwhelming majority of countries which participated in the debate supported a political solution and the need for the implantation of the geneva agreements  if armed intervention and violation of the agreements continue  afghanistan will have no choice but to come before the security council once again  in conclusion  mr  president, let me reiterate our conviction that by renewing our faith in the principles and goals of the united nations charter, we together, under your leadership, can contribute significantly through our deliberations and decisions in this assembly, to the establishment of a better, safer and more orderly world for all of us to live in  my delegation stands ready to co operate with you in reaching this goal\",\n",
       " 'Year': 1989}"
      ]
     },
     "execution_count": 13,
     "metadata": {},
     "output_type": "execute_result"
    }
   ],
   "source": [
    "res.json()[0]"
   ]
  },
  {
   "cell_type": "markdown",
   "id": "849383fc",
   "metadata": {},
   "source": [
    "- Ejemplo 2: year y country. Te muestra la lista de datos para un año y país dados por el usuario"
   ]
  },
  {
   "cell_type": "code",
   "execution_count": 34,
   "id": "983d8d9c",
   "metadata": {},
   "outputs": [],
   "source": [
    "year = 2015"
   ]
  },
  {
   "cell_type": "code",
   "execution_count": 35,
   "id": "577cc365",
   "metadata": {},
   "outputs": [],
   "source": [
    "url = \"http://192.168.1.53:5000\""
   ]
  },
  {
   "cell_type": "code",
   "execution_count": 36,
   "id": "96f0e802",
   "metadata": {},
   "outputs": [],
   "source": [
    "endpoint4 = f\"/speech_year_country/{year}/{country}\""
   ]
  },
  {
   "cell_type": "code",
   "execution_count": 37,
   "id": "9f9b3dee",
   "metadata": {},
   "outputs": [],
   "source": [
    "res = requests.get(url+endpoint4)"
   ]
  },
  {
   "cell_type": "code",
   "execution_count": 38,
   "id": "a6b3fbef",
   "metadata": {
    "scrolled": false
   },
   "outputs": [
    {
     "data": {
      "text/plain": [
       "[{'Country': 'AFG',\n",
       "  'Speech': 'it gives me great pleasure, on behalf of the islamic republic of afghanistan, to express my sincere congratulations on the president s well deserved election as president of the general assembly at its seventieth session  i also express my deep gratitude to secretary general ban ki moon for his hands on leadership of the organization at a very demanding time  the state of the world today, 70 years after the founding of this unique organization, is at best a mixed one  while the newly drafted charter of the united nations asserted its primary principles as the maintenance of international peace and security after the second world war, today a set of threats, mostly created by humans, challenges societies throughout the world and pose a threat to security, basic rights, dignity, our ecosystem, health care, state viability, governance, national and community cohesiveness and even cultural and religious identity  however, it 15 29425 31 34   a 70 pv 15 28 09 2015 also poses a serious challenge to the united nations existing mandate, structure, resources and traditional approaches to dealing with global issues  the organization has tried its best to keep up with and adapt to an evolving environment, but if we look at the past seven decades, we see that our predecessors did their best to deal with a litany of conflicts, arms races, social and economic upheavals, ideological contests and geostrategic rivalries  but never has the world or the united nations faced such fast paced change, both constructive and harmful  such abrupt fluctuations heighten expectations and immediate demands for solutions and answers  those monumental tasks   coupled with population growth, unprecedented mobility, connectivity and access to information and technological know how   necessitate constant negotiations, legal frameworks and new management and leadership skills  they also encompass inherent risks and security concerns  at the same time, as the world shrinks and the human village grows, we are faced with the ugly aspects of globalization and inter dependence  we are seeing the emergence of societies of haves and have nots, subgroups, disenfranchised communities, abject poverty, upscale corruption, injustice, repression, sectarianism, terrorism and criminality, among others  at some point, it is the united nations and other specialized and multilateral organizations that will need to be ready to drive the agenda and provide the required platform for decision making  we urge future reforms to take the needs of our times into account and to offer flexibility and fast track problem management for the work at hand  allow me to dwell on the case of my own country as a prime example of a nation in transition, as well as of a country exposed to multiple risks and threats at the forefront of our fight against international terrorism and extremism  afghanistan is suffering, and its people demand solutions that are practical, verifiable and durable  the presence of terrorist sanctuaries and support networks in pakistan continues to cause trouble inside afghanistan  the haqqani network has been identified as a main culprit  it needs to be dismantled, as has been our demand in the past  our demands are legitimate, as our people continue to suffer at the hands of terrorist elements who cross into afghanistan and indiscriminately victimize our citizens  that matter needs to be addressed on a bilateral basis and facilitated by trusted international partners  as a case in point, over the past 48 hours, hundreds of militants, some of whom are foreign fighters, organized attacks in kunduz province, where heavy fighting is raging  the day before, more than 10 spectators at a sports stadium were killed and many more were injured in paktika when a bomb was detonated  those attempts will fail to subdue us, just as they failed to do so on other occasions over the past few years  in the broader context, afghanistan continues to be the victim of terrorist organizations and violent extremists, including daesh type cells that are trying to find a foothold  another fact is clear to afghans across the board, namely, were it not for an external support system, access to arms and munitions, rest areas and hospitals and funding and training, as part of strategic collusion with powerful elements in our neighbourhood, this guerrilla style low intensity warfare would have been history by now  we call on pakistan to do what its leadership promised to us a few months ago when they agreed to crack down on known terror outfits, meaning the enemies of afghanistan  we agreed to a paradigm change in our relations and engagement towards peace talks with the taliban  events turned out differently after it was divulged that the taliban leader had been dead for over two years and the episode was a sham  a loss of trust can have irreparable consequences for all sides  we need to learn from that  we have reached the one year mark for the anniversary of the national unity government  i am delighted to report to the general assembly that afghanistan has achieved significant milestones in the past year  thanks to the exemplary generosity of our friends, the progress made in afghanistan over the past 14 years cannot be discounted  we succeeded in prioritizing the needs of the most vulnerable, improving living standards, providing access to education to boys and girls and improving health care quality  life expectancy has increased by an average of 20 years since 2001, with afghans living well beyond the mere 40 years of age that was once the norm  improvement in the health of women and children is particularly notable, as illustrated by the 54 per cent increase in the number of infants delivered and the 62 per cent decrease in infant mortality  thanks to the government s focus on gender equality, equity and equal opportunity, female political participation has also been strengthened  during the 2014 election, 35 per cent of voters were females  32 34 15 29425   28 09 2015 a 70 pv 15 women now claim 11 per cent of judgeships, with an additional 20 per cent in training  moreover, we are also strengthening laws and regulations that deal with torture, and we are taking necessary measures to prevent and prosecute individuals involved in any form of torture, as per the optional protocol to the convention against torture  we sincerely thank the international community for the exemplary support it has provided and for the generosity and patience it has so tirelessly bestowed upon us as a war torn nation  i would very especially like to mention the united states of america, nato, the european union and the entire donor community for the blood of their soldiers, the sacrifices of their civilian workers and their expertise and encouragement  as mentioned earlier, the recently escalating security issues have slowed down state building and overall progress  but, through their patriotism and resilience, our national security forces have demonstrated their readiness to face the challenges posed by the taliban and their terrorist and violent extremist groups  furthermore, president ghani and i prioritized a comprehensive reform agenda to root out corruption from our society and institutions and to promote transparency and efficacy at all levels of government, the judiciary and at the national and subnational levels  an important component of our reform agenda concerns necessary changes in the work of our electoral institutions to strengthen the credibility and integrity of our future elections  in that respect, the reform commission recently presented a comprehensive set of recommendations, and we plan appropriate steps to implement them  we are confident that those efforts will go a long way in the consolidation of participatory democracy in our country  in addition to security challenges, the menace of the illicit drug trade in afghanistan is having an adverse impact on the economy and society  however, we have a new comprehensive action plan to combat the drug economy more effectively  we appreciate the contributions made by donors, especially the assistance provided by the united states  we are determined to meet the 10 year long goal of defeating narcotics once and for all  regional cooperation on the drug problem is another key pillar of our strategy  beyond cooperation on counter narcotics, the unity government is committed to enhancing regional engagement and building constructive relationships based on win win formulas, and turning afghanistan into a connectivity hub for energy, trade, transit, transport, pipelines and fibre optics  the sixth regional economic cooperation conference on afghanistan, held in kabul recently, agreed to work on ways to develop and consolidate partnerships towards promoting regional economic cooperation and integration in afghanistan and across the region  success stories are already taking shape, such as the central asia south asia electricity transmission and trade project and the trans afghanistan pipeline, turning afghanistan into a land bridge connecting china and india through south asia and central asia to the middle east and europe  my government has a strong political will to implement the 2030 agenda for sustainable development (resolution 70 1) with the support of the international community, while we implement the remainder of the millennium development goals and targets  i would like to add afghanistan s voice in support of a reformed security council that is more inclusive, representative and transparent  like most member states, we agree that the security council is in dire need of comprehensive reforms to better confront twenty first century challenges  my government supports the inalienable rights of the palestinian people  we reiterate our long standing position that a two state solution offers the best guarantee for long term and sustainable solutions to the conflict  in addition, i would like to express my strongest condemnation of the terrible acts against humanity committed by all sides in syria, especially the islamic state in iraq and shams  the people of syria and iraq are suffering  as a war ravaged country, we feel their pain, dispossession and trauma  i call upon the global community to take prompt and urgent action and to facilitate a political solution through talks  we look to the united nations to remain beside us for years to come on our journey into the transformation decade  as we move forward, we expect a strategic realignment in the support role of the international community and the united nations  in that regard, we welcome the outcome of the work of the tripartite review commission to determine the guiding principles of the united nations future engagement in afghanistan  15 29425 33 34   a 70 pv 15 28 09 2015 in conclusion, let me reiterate my government s steadfast commitment to promoting the very principles on which the united nations was founded  we are confident that, with the continued support of the family of nations represented in this noble organization, we will realize our shared goal of a peaceful, stable and prosperous nation that is a catalyst for security and prosperity in our region and beyond',\n",
       "  'Year': 2015}]"
      ]
     },
     "execution_count": 38,
     "metadata": {},
     "output_type": "execute_result"
    }
   ],
   "source": [
    "res.json()"
   ]
  },
  {
   "cell_type": "markdown",
   "id": "7febf968",
   "metadata": {},
   "source": [
    "## 4. Funciones POST ✍🏻"
   ]
  },
  {
   "cell_type": "markdown",
   "id": "074660fd",
   "metadata": {},
   "source": [
    "*A continuación se testea como introducir/generar datos nuevos en la base de datos*"
   ]
  },
  {
   "cell_type": "code",
   "execution_count": 14,
   "id": "01fe3a34",
   "metadata": {},
   "outputs": [],
   "source": [
    "quote = { \"Country\": \"Olaya\",\n",
    "         \"Speech\": \"Las APIS molan\",\n",
    "         \"Year\": 2021  \n",
    "}"
   ]
  },
  {
   "cell_type": "code",
   "execution_count": 15,
   "id": "8b7c2d4e",
   "metadata": {},
   "outputs": [],
   "source": [
    "url = \"http://192.168.1.53:5000\""
   ]
  },
  {
   "cell_type": "code",
   "execution_count": 16,
   "id": "8a76d7d7",
   "metadata": {},
   "outputs": [],
   "source": [
    "endpoint4 = \"/speech_new\""
   ]
  },
  {
   "cell_type": "code",
   "execution_count": 17,
   "id": "ec96d27b",
   "metadata": {},
   "outputs": [],
   "source": [
    "res = requests.post(url=url+endpoint4, data=quote)"
   ]
  },
  {
   "cell_type": "code",
   "execution_count": 18,
   "id": "e7828a1e",
   "metadata": {},
   "outputs": [
    {
     "data": {
      "text/plain": [
       "<Response [200]>"
      ]
     },
     "execution_count": 18,
     "metadata": {},
     "output_type": "execute_result"
    }
   ],
   "source": [
    "res"
   ]
  },
  {
   "cell_type": "code",
   "execution_count": null,
   "id": "52872a80",
   "metadata": {},
   "outputs": [],
   "source": [
    "#comprobación de si esta el año 2021 que se hubiera añadido como nuevo al meter el nuevo diccionario en el documento"
   ]
  },
  {
   "cell_type": "code",
   "execution_count": 19,
   "id": "cea4467c",
   "metadata": {},
   "outputs": [],
   "source": [
    "url = \"http://192.168.1.53:5000/year\""
   ]
  },
  {
   "cell_type": "code",
   "execution_count": 20,
   "id": "ed254c68",
   "metadata": {},
   "outputs": [],
   "source": [
    "res = requests.get(url)"
   ]
  },
  {
   "cell_type": "code",
   "execution_count": 21,
   "id": "9fa9bbaf",
   "metadata": {},
   "outputs": [
    {
     "data": {
      "text/plain": [
       "[1970,\n",
       " 1971,\n",
       " 1972,\n",
       " 1973,\n",
       " 1974,\n",
       " 1975,\n",
       " 1976,\n",
       " 1977,\n",
       " 1978,\n",
       " 1979,\n",
       " 1980,\n",
       " 1981,\n",
       " 1982,\n",
       " 1983,\n",
       " 1984,\n",
       " 1985,\n",
       " 1986,\n",
       " 1987,\n",
       " 1988,\n",
       " 1989,\n",
       " 1990,\n",
       " 1991,\n",
       " 1992,\n",
       " 1993,\n",
       " 1994,\n",
       " 1995,\n",
       " 1996,\n",
       " 1997,\n",
       " 1998,\n",
       " 1999,\n",
       " 2000,\n",
       " 2001,\n",
       " 2002,\n",
       " 2003,\n",
       " 2004,\n",
       " 2005,\n",
       " 2006,\n",
       " 2007,\n",
       " 2008,\n",
       " 2009,\n",
       " 2010,\n",
       " 2011,\n",
       " 2012,\n",
       " 2013,\n",
       " 2014,\n",
       " 2015,\n",
       " '2021']"
      ]
     },
     "execution_count": 21,
     "metadata": {},
     "output_type": "execute_result"
    }
   ],
   "source": [
    "res.json()"
   ]
  }
 ],
 "metadata": {
  "kernelspec": {
   "display_name": "OLAYA1",
   "language": "python",
   "name": "olaya1"
  },
  "language_info": {
   "codemirror_mode": {
    "name": "ipython",
    "version": 3
   },
   "file_extension": ".py",
   "mimetype": "text/x-python",
   "name": "python",
   "nbconvert_exporter": "python",
   "pygments_lexer": "ipython3",
   "version": "3.8.5"
  }
 },
 "nbformat": 4,
 "nbformat_minor": 5
}
